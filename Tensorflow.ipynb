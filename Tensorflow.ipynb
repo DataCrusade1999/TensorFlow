{
  "nbformat": 4,
  "nbformat_minor": 0,
  "metadata": {
    "colab": {
      "name": "Tensorflow.ipynb",
      "provenance": [],
      "authorship_tag": "ABX9TyMQ3J0MAX4qUhQYW/vcf7VV",
      "include_colab_link": true
    },
    "kernelspec": {
      "name": "python3",
      "display_name": "Python 3"
    }
  },
  "cells": [
    {
      "cell_type": "markdown",
      "metadata": {
        "id": "view-in-github",
        "colab_type": "text"
      },
      "source": [
        "<a href=\"https://colab.research.google.com/github/DataCrusade1999/Tensorflow/blob/main/Tensorflow.ipynb\" target=\"_parent\"><img src=\"https://colab.research.google.com/assets/colab-badge.svg\" alt=\"Open In Colab\"/></a>"
      ]
    },
    {
      "cell_type": "code",
      "metadata": {
        "id": "LPNhrgnb7vFm"
      },
      "source": [
        "import os\n",
        "import numpy as np\n",
        "import tensorflow as tf\n",
        "import cProfile\n",
        "import matplotlib.pyplot as plt"
      ],
      "execution_count": 1,
      "outputs": []
    },
    {
      "cell_type": "code",
      "metadata": {
        "colab": {
          "base_uri": "https://localhost:8080/"
        },
        "id": "J1Nu2OEo6cov",
        "outputId": "3f8b9eb0-d4e1-4fb2-ec8a-6e439f030549"
      },
      "source": [
        "a = tf.constant([[1, 2],[3, 4]])\n",
        "print(a)"
      ],
      "execution_count": 2,
      "outputs": [
        {
          "output_type": "stream",
          "text": [
            "tf.Tensor(\n",
            "[[1 2]\n",
            " [3 4]], shape=(2, 2), dtype=int32)\n"
          ],
          "name": "stdout"
        }
      ]
    },
    {
      "cell_type": "code",
      "metadata": {
        "colab": {
          "base_uri": "https://localhost:8080/"
        },
        "id": "8JpEh6ov65XU",
        "outputId": "c59721d8-c35e-479d-c737-192580027c53"
      },
      "source": [
        "b = tf.constant([[1, 2],[3, 4]])\n",
        "print(b)"
      ],
      "execution_count": 3,
      "outputs": [
        {
          "output_type": "stream",
          "text": [
            "tf.Tensor(\n",
            "[[1 2]\n",
            " [3 4]], shape=(2, 2), dtype=int32)\n"
          ],
          "name": "stdout"
        }
      ]
    },
    {
      "cell_type": "code",
      "metadata": {
        "colab": {
          "base_uri": "https://localhost:8080/"
        },
        "id": "PF36dtzS7f4E",
        "outputId": "aca61f78-86a4-43dd-d10b-a739126280ea"
      },
      "source": [
        "c = tf.add(a, 1)\n",
        "print(c)"
      ],
      "execution_count": 4,
      "outputs": [
        {
          "output_type": "stream",
          "text": [
            "tf.Tensor(\n",
            "[[2 3]\n",
            " [4 5]], shape=(2, 2), dtype=int32)\n"
          ],
          "name": "stdout"
        }
      ]
    },
    {
      "cell_type": "code",
      "metadata": {
        "colab": {
          "base_uri": "https://localhost:8080/"
        },
        "id": "h2UKgZDL7I-x",
        "outputId": "44056d4a-a512-49de-8892-c446e96865ea"
      },
      "source": [
        "print(a*b)"
      ],
      "execution_count": 5,
      "outputs": [
        {
          "output_type": "stream",
          "text": [
            "tf.Tensor(\n",
            "[[ 1  4]\n",
            " [ 9 16]], shape=(2, 2), dtype=int32)\n"
          ],
          "name": "stdout"
        }
      ]
    },
    {
      "cell_type": "code",
      "metadata": {
        "colab": {
          "base_uri": "https://localhost:8080/"
        },
        "id": "i3zzwnrB8DHU",
        "outputId": "c9af836a-efb9-4063-c4d7-61c8bd1f189e"
      },
      "source": [
        "var=np.multiply(a,b)\n",
        "print(var)"
      ],
      "execution_count": 6,
      "outputs": [
        {
          "output_type": "stream",
          "text": [
            "[[ 1  4]\n",
            " [ 9 16]]\n"
          ],
          "name": "stdout"
        }
      ]
    },
    {
      "cell_type": "code",
      "metadata": {
        "colab": {
          "base_uri": "https://localhost:8080/"
        },
        "id": "CY4ZjtEc-jRZ",
        "outputId": "38cee9fe-66b8-4b5a-ccb8-1c531bc5073f"
      },
      "source": [
        "var=tf.constant([[3,4,5],[4,5,6]])\n",
        "var.numpy()"
      ],
      "execution_count": 7,
      "outputs": [
        {
          "output_type": "execute_result",
          "data": {
            "text/plain": [
              "array([[3, 4, 5],\n",
              "       [4, 5, 6]], dtype=int32)"
            ]
          },
          "metadata": {
            "tags": []
          },
          "execution_count": 7
        }
      ]
    },
    {
      "cell_type": "code",
      "metadata": {
        "colab": {
          "base_uri": "https://localhost:8080/"
        },
        "id": "KNVaxle1_iXp",
        "outputId": "e307c844-ff61-4a8c-e7d5-52617dcd807e"
      },
      "source": [
        "a=tf.constant([[0,1,3],[3,4,3]])\n",
        "a"
      ],
      "execution_count": 8,
      "outputs": [
        {
          "output_type": "execute_result",
          "data": {
            "text/plain": [
              "<tf.Tensor: shape=(2, 3), dtype=int32, numpy=\n",
              "array([[0, 1, 3],\n",
              "       [3, 4, 3]], dtype=int32)>"
            ]
          },
          "metadata": {
            "tags": []
          },
          "execution_count": 8
        }
      ]
    },
    {
      "cell_type": "code",
      "metadata": {
        "id": "NkoSjwZKjqqo"
      },
      "source": [
        "a=tf.ones([3,3],dtype='int32')\n",
        "b=tf.constant([[1,2],\n",
        "               [3,4],\n",
        "               [5,6]],dtype='int32')"
      ],
      "execution_count": 9,
      "outputs": []
    },
    {
      "cell_type": "code",
      "metadata": {
        "colab": {
          "base_uri": "https://localhost:8080/"
        },
        "id": "VvBYyu7xlN7d",
        "outputId": "01dbf7e2-8d85-46a4-994e-8614e70bbd01"
      },
      "source": [
        "max_value=tf.reduce_max(b)\n",
        "max_value"
      ],
      "execution_count": 10,
      "outputs": [
        {
          "output_type": "execute_result",
          "data": {
            "text/plain": [
              "<tf.Tensor: shape=(), dtype=int32, numpy=6>"
            ]
          },
          "metadata": {
            "tags": []
          },
          "execution_count": 10
        }
      ]
    },
    {
      "cell_type": "code",
      "metadata": {
        "colab": {
          "base_uri": "https://localhost:8080/"
        },
        "id": "qDYCuW7Mj-tA",
        "outputId": "82e7f8a0-2f5a-4ad7-9d2b-30b142990143"
      },
      "source": [
        "print(a @ b)"
      ],
      "execution_count": 11,
      "outputs": [
        {
          "output_type": "stream",
          "text": [
            "tf.Tensor(\n",
            "[[ 9 12]\n",
            " [ 9 12]\n",
            " [ 9 12]], shape=(3, 2), dtype=int32)\n"
          ],
          "name": "stdout"
        }
      ]
    },
    {
      "cell_type": "markdown",
      "metadata": {
        "id": "ovEAW9CVxrc1"
      },
      "source": [
        "https://www.tensorflow.org/guide/tensor#about_shapes"
      ]
    },
    {
      "cell_type": "code",
      "metadata": {
        "colab": {
          "base_uri": "https://localhost:8080/"
        },
        "id": "nqULdPN6vN3K",
        "outputId": "1bd25e4a-1f9d-40f2-899d-2996e992750b"
      },
      "source": [
        "rank_4_tensor = tf.zeros([3, 2, 4, 5])\n",
        "\n",
        "print(rank_4_tensor)"
      ],
      "execution_count": 12,
      "outputs": [
        {
          "output_type": "stream",
          "text": [
            "tf.Tensor(\n",
            "[[[[0. 0. 0. 0. 0.]\n",
            "   [0. 0. 0. 0. 0.]\n",
            "   [0. 0. 0. 0. 0.]\n",
            "   [0. 0. 0. 0. 0.]]\n",
            "\n",
            "  [[0. 0. 0. 0. 0.]\n",
            "   [0. 0. 0. 0. 0.]\n",
            "   [0. 0. 0. 0. 0.]\n",
            "   [0. 0. 0. 0. 0.]]]\n",
            "\n",
            "\n",
            " [[[0. 0. 0. 0. 0.]\n",
            "   [0. 0. 0. 0. 0.]\n",
            "   [0. 0. 0. 0. 0.]\n",
            "   [0. 0. 0. 0. 0.]]\n",
            "\n",
            "  [[0. 0. 0. 0. 0.]\n",
            "   [0. 0. 0. 0. 0.]\n",
            "   [0. 0. 0. 0. 0.]\n",
            "   [0. 0. 0. 0. 0.]]]\n",
            "\n",
            "\n",
            " [[[0. 0. 0. 0. 0.]\n",
            "   [0. 0. 0. 0. 0.]\n",
            "   [0. 0. 0. 0. 0.]\n",
            "   [0. 0. 0. 0. 0.]]\n",
            "\n",
            "  [[0. 0. 0. 0. 0.]\n",
            "   [0. 0. 0. 0. 0.]\n",
            "   [0. 0. 0. 0. 0.]\n",
            "   [0. 0. 0. 0. 0.]]]], shape=(3, 2, 4, 5), dtype=float32)\n"
          ],
          "name": "stdout"
        }
      ]
    },
    {
      "cell_type": "code",
      "metadata": {
        "id": "DjNzZF1S1CYx"
      },
      "source": [
        "rank_2_tensor=tf.constant([[1,2],\n",
        "                           [3,4],\n",
        "                           [5,6]])"
      ],
      "execution_count": 13,
      "outputs": []
    },
    {
      "cell_type": "code",
      "metadata": {
        "colab": {
          "base_uri": "https://localhost:8080/"
        },
        "id": "i9B8Ea3E1AUH",
        "outputId": "72bfd99c-0b0e-4a32-a499-abbe980e8c55"
      },
      "source": [
        "print(rank_2_tensor.numpy())"
      ],
      "execution_count": 14,
      "outputs": [
        {
          "output_type": "stream",
          "text": [
            "[[1 2]\n",
            " [3 4]\n",
            " [5 6]]\n"
          ],
          "name": "stdout"
        }
      ]
    },
    {
      "cell_type": "code",
      "metadata": {
        "colab": {
          "base_uri": "https://localhost:8080/"
        },
        "id": "1NyJi_P01PRc",
        "outputId": "2171c2c1-b1aa-4ec4-b17f-1cd2f1b1f387"
      },
      "source": [
        "print(rank_2_tensor[1::].numpy())"
      ],
      "execution_count": 15,
      "outputs": [
        {
          "output_type": "stream",
          "text": [
            "[[3 4]\n",
            " [5 6]]\n"
          ],
          "name": "stdout"
        }
      ]
    },
    {
      "cell_type": "code",
      "metadata": {
        "colab": {
          "base_uri": "https://localhost:8080/"
        },
        "id": "TlY1l7s32Ra3",
        "outputId": "9f27e929-56ed-498e-e885-391a07fda2aa"
      },
      "source": [
        "# Shape returns a `TensorShape` object that shows the size on each dimension\n",
        "x = tf.constant([[1], [2], [3]])\n",
        "print(x.ndim)\n",
        "print(x.shape)"
      ],
      "execution_count": 16,
      "outputs": [
        {
          "output_type": "stream",
          "text": [
            "2\n",
            "(3, 1)\n"
          ],
          "name": "stdout"
        }
      ]
    },
    {
      "cell_type": "code",
      "metadata": {
        "colab": {
          "base_uri": "https://localhost:8080/"
        },
        "id": "Se8hs4eo2pUa",
        "outputId": "6e6c126b-31d4-4277-ff61-0f69d8a02957"
      },
      "source": [
        "reshaped=tf.reshape(x,[1,3])\n",
        "print(reshaped.shape)\n",
        "print(x.shape)"
      ],
      "execution_count": 17,
      "outputs": [
        {
          "output_type": "stream",
          "text": [
            "(1, 3)\n",
            "(3, 1)\n"
          ],
          "name": "stdout"
        }
      ]
    },
    {
      "cell_type": "code",
      "metadata": {
        "colab": {
          "base_uri": "https://localhost:8080/"
        },
        "id": "ot6o-YHm_aka",
        "outputId": "8c05b35b-28dc-4222-daa6-4c7f275280b1"
      },
      "source": [
        "rank_4_tensor.dtype"
      ],
      "execution_count": 18,
      "outputs": [
        {
          "output_type": "execute_result",
          "data": {
            "text/plain": [
              "tf.float32"
            ]
          },
          "metadata": {
            "tags": []
          },
          "execution_count": 18
        }
      ]
    },
    {
      "cell_type": "code",
      "metadata": {
        "colab": {
          "base_uri": "https://localhost:8080/"
        },
        "id": "mYOqlfREADCp",
        "outputId": "d353b90d-ceb2-465f-a93b-f3f46b01c381"
      },
      "source": [
        "rank_5_tensor=tf.ones([2,2,4,4])\n",
        "print(rank_5_tensor)"
      ],
      "execution_count": 19,
      "outputs": [
        {
          "output_type": "stream",
          "text": [
            "tf.Tensor(\n",
            "[[[[1. 1. 1. 1.]\n",
            "   [1. 1. 1. 1.]\n",
            "   [1. 1. 1. 1.]\n",
            "   [1. 1. 1. 1.]]\n",
            "\n",
            "  [[1. 1. 1. 1.]\n",
            "   [1. 1. 1. 1.]\n",
            "   [1. 1. 1. 1.]\n",
            "   [1. 1. 1. 1.]]]\n",
            "\n",
            "\n",
            " [[[1. 1. 1. 1.]\n",
            "   [1. 1. 1. 1.]\n",
            "   [1. 1. 1. 1.]\n",
            "   [1. 1. 1. 1.]]\n",
            "\n",
            "  [[1. 1. 1. 1.]\n",
            "   [1. 1. 1. 1.]\n",
            "   [1. 1. 1. 1.]\n",
            "   [1. 1. 1. 1.]]]], shape=(2, 2, 4, 4), dtype=float32)\n"
          ],
          "name": "stdout"
        }
      ]
    },
    {
      "cell_type": "code",
      "metadata": {
        "colab": {
          "base_uri": "https://localhost:8080/"
        },
        "id": "XtwEMYLLAWnO",
        "outputId": "7f4e457a-6dd3-4e35-f445-d36026db1e68"
      },
      "source": [
        "rank_5_tensor=tf.cast(rank_5_tensor,tf.uint8)\n",
        "print(rank_5_tensor)"
      ],
      "execution_count": 20,
      "outputs": [
        {
          "output_type": "stream",
          "text": [
            "tf.Tensor(\n",
            "[[[[1 1 1 1]\n",
            "   [1 1 1 1]\n",
            "   [1 1 1 1]\n",
            "   [1 1 1 1]]\n",
            "\n",
            "  [[1 1 1 1]\n",
            "   [1 1 1 1]\n",
            "   [1 1 1 1]\n",
            "   [1 1 1 1]]]\n",
            "\n",
            "\n",
            " [[[1 1 1 1]\n",
            "   [1 1 1 1]\n",
            "   [1 1 1 1]\n",
            "   [1 1 1 1]]\n",
            "\n",
            "  [[1 1 1 1]\n",
            "   [1 1 1 1]\n",
            "   [1 1 1 1]\n",
            "   [1 1 1 1]]]], shape=(2, 2, 4, 4), dtype=uint8)\n"
          ],
          "name": "stdout"
        }
      ]
    },
    {
      "cell_type": "code",
      "metadata": {
        "colab": {
          "base_uri": "https://localhost:8080/"
        },
        "id": "DjEeD7CmBWUo",
        "outputId": "5f7d0697-698f-453c-d058-a36593dbf447"
      },
      "source": [
        "y = tf.range(5)\n",
        "print(y)"
      ],
      "execution_count": 21,
      "outputs": [
        {
          "output_type": "stream",
          "text": [
            "tf.Tensor([0 1 2 3 4], shape=(5,), dtype=int32)\n"
          ],
          "name": "stdout"
        }
      ]
    },
    {
      "cell_type": "code",
      "metadata": {
        "colab": {
          "base_uri": "https://localhost:8080/"
        },
        "id": "vT5pk5TYZMrI",
        "outputId": "aef97901-ea16-43d8-d4b4-7a4e33e52c60"
      },
      "source": [
        "y=tf.reshape(y,[5,1])\n",
        "print(y)"
      ],
      "execution_count": 22,
      "outputs": [
        {
          "output_type": "stream",
          "text": [
            "tf.Tensor(\n",
            "[[0]\n",
            " [1]\n",
            " [2]\n",
            " [3]\n",
            " [4]], shape=(5, 1), dtype=int32)\n"
          ],
          "name": "stdout"
        }
      ]
    },
    {
      "cell_type": "code",
      "metadata": {
        "colab": {
          "base_uri": "https://localhost:8080/"
        },
        "id": "ADJ35Kq5XlzL",
        "outputId": "10a67327-e5ea-4b71-9ce1-fcbc10005cdb"
      },
      "source": [
        "max_val=tf.argmax(y)\n",
        "print(max_val)"
      ],
      "execution_count": 23,
      "outputs": [
        {
          "output_type": "stream",
          "text": [
            "tf.Tensor([4], shape=(1,), dtype=int64)\n"
          ],
          "name": "stdout"
        }
      ]
    },
    {
      "cell_type": "code",
      "metadata": {
        "colab": {
          "base_uri": "https://localhost:8080/"
        },
        "id": "CdYDDx-ADZYH",
        "outputId": "ae5d8c17-7e77-40c0-8cb3-beca0adaac18"
      },
      "source": [
        "z=tf.broadcast_to([1],[3,3])\n",
        "print(z)"
      ],
      "execution_count": 24,
      "outputs": [
        {
          "output_type": "stream",
          "text": [
            "tf.Tensor(\n",
            "[[1 1 1]\n",
            " [1 1 1]\n",
            " [1 1 1]], shape=(3, 3), dtype=int32)\n"
          ],
          "name": "stdout"
        }
      ]
    },
    {
      "cell_type": "markdown",
      "metadata": {
        "id": "eSfh9qehKu_Q"
      },
      "source": [
        "https://www.tensorflow.org/guide/tensor#string_tensors"
      ]
    },
    {
      "cell_type": "code",
      "metadata": {
        "colab": {
          "base_uri": "https://localhost:8080/"
        },
        "id": "og1Vz3KvIzVZ",
        "outputId": "90e96421-092f-4847-bcc7-b6dca992ac73"
      },
      "source": [
        "string=tf.constant(\"Ashutosh Pandey\")\n",
        "print(string)"
      ],
      "execution_count": 25,
      "outputs": [
        {
          "output_type": "stream",
          "text": [
            "tf.Tensor(b'Ashutosh Pandey', shape=(), dtype=string)\n"
          ],
          "name": "stdout"
        }
      ]
    },
    {
      "cell_type": "code",
      "metadata": {
        "colab": {
          "base_uri": "https://localhost:8080/"
        },
        "id": "OQV7XkvHLCCW",
        "outputId": "f7942dc6-3a6c-472a-981f-47fff2b71ea5"
      },
      "source": [
        "byte_string=tf.strings.bytes_split(string)\n",
        "byte_decode=tf.io.decode_raw(string,tf.uint8)\n",
        "print(byte_decode)\n",
        "print(byte_string)"
      ],
      "execution_count": 26,
      "outputs": [
        {
          "output_type": "stream",
          "text": [
            "tf.Tensor([ 65 115 104 117 116 111 115 104  32  80  97 110 100 101 121], shape=(15,), dtype=uint8)\n",
            "tf.Tensor(\n",
            "[b'A' b's' b'h' b'u' b't' b'o' b's' b'h' b' ' b'P' b'a' b'n' b'd' b'e'\n",
            " b'y'], shape=(15,), dtype=string)\n"
          ],
          "name": "stdout"
        }
      ]
    },
    {
      "cell_type": "code",
      "metadata": {
        "colab": {
          "base_uri": "https://localhost:8080/"
        },
        "id": "fqS4jmQdJ_GM",
        "outputId": "2ac2b4a7-4f15-4a0f-d97a-3c67e69c6531"
      },
      "source": [
        "string=tf.strings.split(string,sep=\" \")\n",
        "print(string)"
      ],
      "execution_count": 27,
      "outputs": [
        {
          "output_type": "stream",
          "text": [
            "tf.Tensor([b'Ashutosh' b'Pandey'], shape=(2,), dtype=string)\n"
          ],
          "name": "stdout"
        }
      ]
    },
    {
      "cell_type": "code",
      "metadata": {
        "colab": {
          "base_uri": "https://localhost:8080/"
        },
        "id": "JLqk-62oIM4X",
        "outputId": "5d761020-6bdc-4446-ff91-6697b7b98934"
      },
      "source": [
        "string=tf.strings.split(string)\n",
        "print(string)"
      ],
      "execution_count": 28,
      "outputs": [
        {
          "output_type": "stream",
          "text": [
            "<tf.RaggedTensor [[b'Ashutosh'], [b'Pandey']]>\n"
          ],
          "name": "stdout"
        }
      ]
    },
    {
      "cell_type": "code",
      "metadata": {
        "colab": {
          "base_uri": "https://localhost:8080/"
        },
        "id": "uYXCEtL0I7Vv",
        "outputId": "55a47529-1d82-4031-b970-c47f3e1f03d6"
      },
      "source": [
        "tensor=tf.ragged.constant([[1,2],[2]])\n",
        "print(tensor.shape)"
      ],
      "execution_count": 29,
      "outputs": [
        {
          "output_type": "stream",
          "text": [
            "(2, None)\n"
          ],
          "name": "stdout"
        }
      ]
    },
    {
      "cell_type": "code",
      "metadata": {
        "colab": {
          "base_uri": "https://localhost:8080/"
        },
        "id": "uEka8n8hJb3o",
        "outputId": "bfb56588-d5eb-45e9-8ef9-8ff6aeda157f"
      },
      "source": [
        "unicode_tensor=tf.constant(\"✅😀\")\n",
        "unicode_decode=tf.strings.unicode_decode(unicode_tensor,\"UTF-8\")\n",
        "print(unicode_decode)"
      ],
      "execution_count": 30,
      "outputs": [
        {
          "output_type": "stream",
          "text": [
            "tf.Tensor([  9989 128512], shape=(2,), dtype=int32)\n"
          ],
          "name": "stdout"
        }
      ]
    },
    {
      "cell_type": "markdown",
      "metadata": {
        "id": "SZo95bXUUA0y"
      },
      "source": [
        "https://www.tensorflow.org/guide/tensor#sparse_tensors"
      ]
    },
    {
      "cell_type": "code",
      "metadata": {
        "colab": {
          "base_uri": "https://localhost:8080/"
        },
        "id": "YeetO4MUT3Af",
        "outputId": "70ffeff4-6296-4f90-dac4-3e4a9abec0cb"
      },
      "source": [
        "# Sparse tensors store values by index in a memory-efficient manner\n",
        "sparse_tensor = tf.sparse.SparseTensor(indices=[[0, 0], [1, 2]],\n",
        "                                       values=[1, 2],\n",
        "                                       dense_shape=[4, 4])\n",
        "print(sparse_tensor ,\"\\n\")\n",
        "\n",
        "# You can convert sparse tensors to dense\n",
        "print(tf.sparse.to_dense(sparse_tensor))"
      ],
      "execution_count": 31,
      "outputs": [
        {
          "output_type": "stream",
          "text": [
            "SparseTensor(indices=tf.Tensor(\n",
            "[[0 0]\n",
            " [1 2]], shape=(2, 2), dtype=int64), values=tf.Tensor([1 2], shape=(2,), dtype=int32), dense_shape=tf.Tensor([4 4], shape=(2,), dtype=int64)) \n",
            "\n",
            "tf.Tensor(\n",
            "[[1 0 0 0]\n",
            " [0 0 2 0]\n",
            " [0 0 0 0]\n",
            " [0 0 0 0]], shape=(4, 4), dtype=int32)\n"
          ],
          "name": "stdout"
        }
      ]
    },
    {
      "cell_type": "code",
      "metadata": {
        "colab": {
          "base_uri": "https://localhost:8080/"
        },
        "id": "RDeZLRrnZH9I",
        "outputId": "20181f0c-decc-4a7d-99fa-aedab3961245"
      },
      "source": [
        "y=tf.Variable([[1.0, 2.0], [3.0, 4.0]])\n",
        "print(y)\n",
        "print(tf.convert_to_tensor(y))\n",
        "print(y.numpy())\n",
        "print(tf.argmax(y))"
      ],
      "execution_count": 32,
      "outputs": [
        {
          "output_type": "stream",
          "text": [
            "<tf.Variable 'Variable:0' shape=(2, 2) dtype=float32, numpy=\n",
            "array([[1., 2.],\n",
            "       [3., 4.]], dtype=float32)>\n",
            "tf.Tensor(\n",
            "[[1. 2.]\n",
            " [3. 4.]], shape=(2, 2), dtype=float32)\n",
            "[[1. 2.]\n",
            " [3. 4.]]\n",
            "tf.Tensor([1 1], shape=(2,), dtype=int64)\n"
          ],
          "name": "stdout"
        }
      ]
    },
    {
      "cell_type": "code",
      "metadata": {
        "colab": {
          "base_uri": "https://localhost:8080/"
        },
        "id": "rzm2uRNyjmlU",
        "outputId": "bab6f914-902e-4898-ae80-621ddf468f34"
      },
      "source": [
        "a=tf.Variable([1,2])\n",
        "try:\n",
        "  a.assign([3,4,6])\n",
        "  print(a)\n",
        "\n",
        "except Exception as e:\n",
        "  #print(f\"{type(e).__name__}:{e}\" )\n",
        "  print(type(e).__name__)\n"
      ],
      "execution_count": 33,
      "outputs": [
        {
          "output_type": "stream",
          "text": [
            "ValueError\n"
          ],
          "name": "stdout"
        }
      ]
    },
    {
      "cell_type": "code",
      "metadata": {
        "colab": {
          "base_uri": "https://localhost:8080/"
        },
        "id": "wGa9ObChuWHd",
        "outputId": "5ecc6e4e-2731-426c-debd-233d32cf013b"
      },
      "source": [
        "a=tf.Variable([1,2,3],name=\"Tensor A\")\n",
        "b=tf.Variable(a,name=\"Tensor B\")\n",
        "print(b)\n",
        "#Updating Tensor A\n",
        "a.assign([4,5,8])\n",
        "a.assign_add([5,6,7])\n",
        "print(a)\n",
        "a.assign_sub([5,6,7])\n",
        "print(a)"
      ],
      "execution_count": 34,
      "outputs": [
        {
          "output_type": "stream",
          "text": [
            "<tf.Variable 'Tensor B:0' shape=(3,) dtype=int32, numpy=array([1, 2, 3], dtype=int32)>\n",
            "<tf.Variable 'Tensor A:0' shape=(3,) dtype=int32, numpy=array([ 9, 11, 15], dtype=int32)>\n",
            "<tf.Variable 'Tensor A:0' shape=(3,) dtype=int32, numpy=array([4, 5, 8], dtype=int32)>\n"
          ],
          "name": "stdout"
        }
      ]
    },
    {
      "cell_type": "markdown",
      "metadata": {
        "id": "a2dK12r1wZoD"
      },
      "source": [
        "Although variables are important for differentiation, some variables will not need to be differentiated. You can turn off gradients for a variable by setting trainable to false at creation. An example of a variable that would not need gradients is a training step counter."
      ]
    },
    {
      "cell_type": "code",
      "metadata": {
        "id": "XTQ_7YlMwbNt",
        "colab": {
          "base_uri": "https://localhost:8080/"
        },
        "outputId": "acda0983-1786-46fb-8939-a57356bc3a84"
      },
      "source": [
        "step_counter = tf.Variable(1, trainable=False)\n",
        "print(step_counter)"
      ],
      "execution_count": 35,
      "outputs": [
        {
          "output_type": "stream",
          "text": [
            "<tf.Variable 'Variable:0' shape=() dtype=int32, numpy=1>\n"
          ],
          "name": "stdout"
        }
      ]
    },
    {
      "cell_type": "markdown",
      "metadata": {
        "id": "Y1H9v4CZE913"
      },
      "source": [
        "#Gradient\n",
        "https://www.tensorflow.org/guide/autodiff#automatic_differentiation_and_gradients"
      ]
    },
    {
      "cell_type": "code",
      "metadata": {
        "colab": {
          "base_uri": "https://localhost:8080/"
        },
        "id": "BpSMW_BUFCFw",
        "outputId": "43eeb7f3-8a32-4bc5-d887-adb7a7ffa211"
      },
      "source": [
        "variable=tf.Variable(3.0)\n",
        "\n",
        "with tf.GradientTape() as tape:\n",
        "  target=variable**2\n",
        "\n",
        "dy_dx=tape.gradient(target,variable)\n",
        "\n",
        "dy_dx.numpy()"
      ],
      "execution_count": 36,
      "outputs": [
        {
          "output_type": "execute_result",
          "data": {
            "text/plain": [
              "6.0"
            ]
          },
          "metadata": {
            "tags": []
          },
          "execution_count": 36
        }
      ]
    },
    {
      "cell_type": "code",
      "metadata": {
        "id": "g8jSnZU_daZZ"
      },
      "source": [
        "layer = tf.keras.layers.Dense(8,activation='relu')\n",
        "x = tf.constant([[1., 2., 3.]])\n",
        "\n",
        "with tf.GradientTape() as tape:\n",
        "  # Forward pass\n",
        "  y = layer(x)\n",
        "  loss = tf.reduce_mean(y**2)\n",
        "\n",
        "# Calculate gradients with respect to every trainable variable\n",
        "grad = tape.gradient(loss, layer.trainable_variables)"
      ],
      "execution_count": 37,
      "outputs": []
    },
    {
      "cell_type": "code",
      "metadata": {
        "colab": {
          "base_uri": "https://localhost:8080/"
        },
        "id": "oW6mlCbydsxz",
        "outputId": "35bfe6a8-cdeb-49ba-97c4-536c31a7322a"
      },
      "source": [
        "for var, g in zip(layer.trainable_variables, grad):\n",
        "  print(f'{var.name}, shape: {g.shape}')"
      ],
      "execution_count": 38,
      "outputs": [
        {
          "output_type": "stream",
          "text": [
            "dense/kernel:0, shape: (3, 8)\n",
            "dense/bias:0, shape: (8,)\n"
          ],
          "name": "stdout"
        }
      ]
    },
    {
      "cell_type": "code",
      "metadata": {
        "colab": {
          "base_uri": "https://localhost:8080/"
        },
        "id": "5VSLsmy-g4u4",
        "outputId": "6ea7db7b-d58b-44c0-e5ef-68f9be35480b"
      },
      "source": [
        "[var.name for var in tape.watched_variables()]"
      ],
      "execution_count": 39,
      "outputs": [
        {
          "output_type": "execute_result",
          "data": {
            "text/plain": [
              "['dense/kernel:0', 'dense/bias:0']"
            ]
          },
          "metadata": {
            "tags": []
          },
          "execution_count": 39
        }
      ]
    },
    {
      "cell_type": "code",
      "metadata": {
        "id": "_uD2LuGZjdud",
        "colab": {
          "base_uri": "https://localhost:8080/"
        },
        "outputId": "dcd67e6f-bfc3-42ec-ce8d-ee4124604c20"
      },
      "source": [
        "x2 = tf.constant([[1.0, 2.0],\n",
        "                 [3.0, 4.0]], dtype=tf.float32)\n",
        "\n",
        "y = np.mean(x2, axis=1)\n",
        "y"
      ],
      "execution_count": 40,
      "outputs": [
        {
          "output_type": "execute_result",
          "data": {
            "text/plain": [
              "array([1.5, 3.5], dtype=float32)"
            ]
          },
          "metadata": {
            "tags": []
          },
          "execution_count": 40
        }
      ]
    },
    {
      "cell_type": "code",
      "metadata": {
        "id": "5UR_jfIYHf-x",
        "colab": {
          "base_uri": "https://localhost:8080/"
        },
        "outputId": "2d9f2717-cd44-448a-d074-4297c995994b"
      },
      "source": [
        "class Dense(tf.Module):\n",
        "  def __init__(self, in_features, out_features, name=None):\n",
        "    super().__init__(name=name)\n",
        "    self.w = tf.Variable(\n",
        "      tf.random.normal([in_features, out_features]), name='w')\n",
        "    self.b = tf.Variable(tf.zeros([out_features]), name='b')\n",
        "  def __call__(self, x):\n",
        "    y = tf.matmul(x, self.w) + self.b\n",
        "    return tf.nn.relu(y)\n",
        "class SequentialModule(tf.Module):\n",
        "  def __init__(self, name=None):\n",
        "    super().__init__(name=name)\n",
        "\n",
        "    self.dense_1 = Dense(in_features=3, out_features=3)\n",
        "    self.dense_2 = Dense(in_features=3, out_features=2)\n",
        "\n",
        "  def __call__(self, x):\n",
        "    x = self.dense_1(x)\n",
        "    return self.dense_2(x)\n",
        "\n",
        "# You have made a model!\n",
        "my_model = SequentialModule(name=\"the_model\")\n",
        "\n",
        "# Call it, with random results\n",
        "print(\"Model results:\", my_model(tf.constant([[2.0, 2.0, 2.0]])))"
      ],
      "execution_count": 41,
      "outputs": [
        {
          "output_type": "stream",
          "text": [
            "Model results: tf.Tensor([[0.        1.3292265]], shape=(1, 2), dtype=float32)\n"
          ],
          "name": "stdout"
        }
      ]
    },
    {
      "cell_type": "code",
      "metadata": {
        "id": "l50Cf-jcWk5T"
      },
      "source": [
        ""
      ],
      "execution_count": null,
      "outputs": []
    }
  ]
}